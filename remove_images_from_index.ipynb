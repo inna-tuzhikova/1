{
 "cells": [
  {
   "cell_type": "code",
   "execution_count": 6,
   "metadata": {},
   "outputs": [],
   "source": [
    "import os\n",
    "import copy\n",
    "import pickle\n",
    "from os.path import join\n",
    "from pathlib import Path"
   ]
  },
  {
   "cell_type": "code",
   "execution_count": 7,
   "metadata": {},
   "outputs": [],
   "source": [
    "def remove_image_from_index(filename, data):\n",
    "    \n",
    "    def get_image_by_filename(filename, data):\n",
    "        for image in data['images']:\n",
    "            if image['file_name'] == filename:\n",
    "                return image\n",
    "            \n",
    "    def remove_annotations(image_id, data):\n",
    "        for ann in data['annotations']:\n",
    "            if ann['image_id'] == image_id:\n",
    "                data['annotations'].remove(ann)\n",
    "    \n",
    "    def get_annotations_by_image_id(image_id, data):\n",
    "        return [ann for ann in data['annotations'] if ann['image_id'] == image_id]\n",
    "            \n",
    "    try:\n",
    "        file = join(folder_path, filename)\n",
    "        os.remove(file)\n",
    "        image = get_image_by_filename(filename, data)\n",
    "        remove_annotations(image['id'], data)\n",
    "        data['images'].remove(image)\n",
    "    except FileNotFoundError:\n",
    "        print(\"File not found\")\n",
    "            \n",
    "    images = []\n",
    "    annotations = []\n",
    "    for i, image in enumerate(data['images']):\n",
    "        n = copy.deepcopy(image['id'])\n",
    "        image['id'] = i\n",
    "        images.append(image)\n",
    "        ann = get_annotations_by_image_id(n, data)\n",
    "        for a in ann:\n",
    "            a['image_id'] = i\n",
    "            annotations.append(a)\n",
    "            \n",
    "    data['images'] = images\n",
    "    data['annotations'] = annotations\n",
    "    \n",
    "    return data"
   ]
  },
  {
   "cell_type": "code",
   "execution_count": 8,
   "metadata": {},
   "outputs": [],
   "source": [
    "folder_path = '/home/julia/razmetka/outdoor/park_merged'\n",
    "filename = '4.jpg'\n",
    "with open(folder_path+'/annotations.pickle', 'rb') as f:\n",
    "    data = pickle.load(f)"
   ]
  },
  {
   "cell_type": "code",
   "execution_count": null,
   "metadata": {},
   "outputs": [],
   "source": [
    "new_data = remove_image_from_index(filename, data)\n",
    "with open(folder_path+'/annotations.pickle', 'wb') as f:\n",
    "    pickle.dump(new_data, f)"
   ]
  }
 ],
 "metadata": {
  "kernelspec": {
   "display_name": "Python 3",
   "language": "python",
   "name": "python3"
  },
  "language_info": {
   "codemirror_mode": {
    "name": "ipython",
    "version": 3
   },
   "file_extension": ".py",
   "mimetype": "text/x-python",
   "name": "python",
   "nbconvert_exporter": "python",
   "pygments_lexer": "ipython3",
   "version": "3.6.5"
  }
 },
 "nbformat": 4,
 "nbformat_minor": 2
}
